{
  "cells": [
    {
      "cell_type": "markdown",
      "metadata": {
        "id": "mD_2lcoc9Rvb"
      },
      "source": [
        "Step 1: Setup and Install Necessary Libraries"
      ]
    },
    {
      "cell_type": "code",
      "execution_count": null,
      "metadata": {
        "colab": {
          "base_uri": "https://localhost:8080/"
        },
        "id": "RllcG77v77PW",
        "outputId": "720f56f4-1033-4f92-affa-78e9c17c2f15"
      },
      "outputs": [],
      "source": [
        "!pip install numpy matplotlib opencv-python imgaug"
      ]
    },
    {
      "cell_type": "markdown",
      "metadata": {
        "id": "tJL1FXJp9Qod"
      },
      "source": [
        "Step 2: Upload Images to Google Colab"
      ]
    },
    {
      "cell_type": "code",
      "execution_count": null,
      "metadata": {
        "colab": {
          "base_uri": "https://localhost:8080/",
          "height": 1000
        },
        "id": "-AqdnATE8bK7",
        "outputId": "0ec676b0-e8b7-41b5-e09f-0db31d058df4"
      },
      "outputs": [],
      "source": [
        "from google.colab import files\n",
        "import numpy as np\n",
        "import cv2\n",
        "\n",
        "# Upload files from your local machine to Google Colab\n",
        "uploaded = files.upload()\n",
        "\n",
        "# Load the uploaded images into a list\n",
        "image_files = list(uploaded.keys())\n",
        "images = [cv2.imdecode(np.frombuffer(uploaded[image_file], np.uint8), 1) for image_file in image_files]\n"
      ]
    },
    {
      "cell_type": "markdown",
      "metadata": {
        "id": "g46DgYiO9k-Q"
      },
      "source": [
        "Step 3: Resize Images to 608x608"
      ]
    },
    {
      "cell_type": "code",
      "execution_count": null,
      "metadata": {
        "colab": {
          "base_uri": "https://localhost:8080/",
          "height": 435
        },
        "id": "UonAAiEZ9n_W",
        "outputId": "ca4254b4-720d-42ce-da5f-2fceab2a627f"
      },
      "outputs": [],
      "source": [
        "import matplotlib.pyplot as plt\n",
        "\n",
        "def crop_center(img, target_height, target_width):\n",
        "    \"\"\"\n",
        "    Crop the center part of the image to the target height and width.\n",
        "    \"\"\"\n",
        "    y, x, _ = img.shape\n",
        "    start_x = x//2 - target_width//2\n",
        "    start_y = y//2 - target_height//2\n",
        "    end_x = start_x + target_width\n",
        "    end_y = start_y + target_height\n",
        "\n",
        "    # Ensure the cropping dimensions are within the image dimensions\n",
        "    if start_x < 0 or start_y < 0 or end_x > x or end_y > y:\n",
        "        print(\"Image dimensions are smaller than the target crop size.\")\n",
        "        return img  # Return the original image if it's smaller than the crop size\n",
        "\n",
        "    return img[start_y:end_y, start_x:end_x]\n",
        "\n",
        "cropped_images = [crop_center(image, 608, 608) for image in images]\n",
        "\n",
        "# Display the first cropped image to verify\n",
        "plt.imshow(cv2.cvtColor(cropped_images[0], cv2.COLOR_BGR2RGB))\n",
        "plt.show()\n",
        "\n"
      ]
    },
    {
      "cell_type": "markdown",
      "metadata": {
        "id": "75N4w8oD9tTz"
      },
      "source": [
        "Step 4: Image Augmentation"
      ]
    },
    {
      "cell_type": "code",
      "execution_count": null,
      "metadata": {
        "colab": {
          "base_uri": "https://localhost:8080/",
          "height": 435
        },
        "id": "HlktSLiq9xvh",
        "outputId": "ff60c557-9a6c-470b-e568-a6628208f720"
      },
      "outputs": [],
      "source": [
        "import imgaug as ia\n",
        "import imgaug.augmenters as iaa\n",
        "\n",
        "# Define the augmentation sequence\n",
        "seq = iaa.Sequential([\n",
        "    iaa.Fliplr(1), # horizontal flips\n",
        "    iaa.Rot90([1, 2, 3]), # rotate 90, 180, 270 degrees\n",
        "    iaa.Affine(rotate=(10, 15)) # rotate between 10 and 15 degrees\n",
        "])\n",
        "\n",
        "# Apply augmentations\n",
        "augmented_images = []\n",
        "for image in cropped_images:\n",
        "    augmented_images.extend(seq.augment_images([image]*10))\n",
        "\n",
        "# Display the first augmented image to verify\n",
        "plt.imshow(cv2.cvtColor(augmented_images[0], cv2.COLOR_BGR2RGB))\n",
        "plt.show()\n"
      ]
    },
    {
      "cell_type": "markdown",
      "metadata": {
        "id": "bXIon0ME90S4"
      },
      "source": [
        "Step 5: Download Augmented Images"
      ]
    },
    {
      "cell_type": "code",
      "execution_count": null,
      "metadata": {
        "id": "f2CLcX3D92mU"
      },
      "outputs": [],
      "source": [
        "from google.colab import files\n",
        "\n",
        "# Save augmented images and trigger download\n",
        "for idx, aug_image in enumerate(augmented_images):\n",
        "    filename = f\"aug_{idx}.jpg\"\n",
        "    cv2.imwrite(filename, aug_image)\n",
        "    files.download(filename)\n"
      ]
    }
  ],
  "metadata": {
    "accelerator": "GPU",
    "colab": {
      "gpuType": "T4",
      "provenance": []
    },
    "kernelspec": {
      "display_name": "Python 3",
      "name": "python3"
    },
    "language_info": {
      "name": "python"
    }
  },
  "nbformat": 4,
  "nbformat_minor": 0
}
